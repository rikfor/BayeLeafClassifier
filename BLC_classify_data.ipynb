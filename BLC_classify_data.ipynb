{
 "cells": [
  {
   "cell_type": "markdown",
   "id": "d2d7135f-fd19-4f4d-b6d6-5fce93f1e670",
   "metadata": {},
   "source": [
    "# Template for classifying data with BLC\n",
    "\n",
    "### From Forlin, Tajvar et al "
   ]
  },
  {
   "cell_type": "markdown",
   "id": "b8aa7103-d690-44a3-9413-6890935a1518",
   "metadata": {},
   "source": [
    "# Imports:"
   ]
  },
  {
   "cell_type": "code",
   "execution_count": 1,
   "id": "cfc0fe73-1b9b-497b-a16a-e629bd2fa80a",
   "metadata": {},
   "outputs": [],
   "source": [
    "import anndata as ad\n",
    "import pandas as pd\n",
    "import scanpy as sc\n",
    "import numpy as np\n",
    "import pickle\n",
    "import pandas as pd\n",
    "from sklearn.preprocessing import quantile_transform\n",
    "import pickle\n",
    "import psutil\n",
    "import os\n",
    "import time\n",
    "from tqdm import tqdm\n",
    "from sklearn.metrics import f1_score\n",
    "from BLC_classification_lib import MultiClassWrapper, calc_emd, OneVsOneWrapper"
   ]
  },
  {
   "cell_type": "markdown",
   "id": "99fc8495-77c7-4a43-9ee3-4326b04ed721",
   "metadata": {},
   "source": [
    "# Classifying with BLC classifier"
   ]
  },
  {
   "cell_type": "code",
   "execution_count": 4,
   "id": "00053ac5-2cc0-4ba0-8c3c-2ac9e64c9b31",
   "metadata": {},
   "outputs": [],
   "source": [
    "#Function to classify new data\n",
    "def classify_data(clf, data_to_classify):   \n",
    "    #Target sum normalisation for data\n",
    "    sc.pp.normalize_total(data_to_classify, target_sum = 1e4)\n",
    "    df_data_to_classify = data_to_classify.to_df()\n",
    "    \n",
    "      \n",
    "    all_markergenes = []\n",
    "\n",
    "    for key in clf.classifiers.keys():\n",
    "        all_markergenes += clf.classifiers[key].features_\n",
    "    all_markergenes = list(set(all_markergenes))\n",
    "    df_data_to_classify = df_data_to_classify[df_data_to_classify.columns[df_data_to_classify.columns.isin(all_markergenes)]]\n",
    "    \n",
    "    df_samples_scaled = quantile_transform(df_data_to_classify, n_quantiles=500, random_state = 0)\n",
    "    df_samples_scaled = pd.DataFrame(df_samples_scaled, index = df_data_to_classify.index, columns = df_data_to_classify.columns)\n",
    "\n",
    "    y_pred = clf.predict(df_samples_scaled)\n",
    "    \n",
    "    \n",
    "    #Add meta data\n",
    "    meta_data = data_to_classify.obs\n",
    "    meta_data = pd.concat([meta_data, y_pred], axis = 1)\n",
    "\n",
    "    data_to_classify.obs = meta_data\n",
    "    \n",
    "    return data_to_classify"
   ]
  },
  {
   "cell_type": "code",
   "execution_count": null,
   "id": "d97a9dce-44eb-4027-a0dd-4eb16a89d98f",
   "metadata": {},
   "outputs": [],
   "source": []
  },
  {
   "cell_type": "code",
   "execution_count": 2,
   "id": "99a71ce9-0b3f-494e-843c-776d5c8f8394",
   "metadata": {},
   "outputs": [],
   "source": [
    "# Insert path to trained classifier - here default of classifier used in original publication which can be found at:\n",
    "# https://drive.google.com/drive/u/0/folders/1--eGmL9U-LCvs_G_EdhPEQDKIjZbvWuI\n",
    "path = 'BLC_classifier_maxdepth30_maxgenes70n_estimators200_thres0.4_minsampleleaf20.pickle'\n",
    "with open(path, 'rb') as handle:\n",
    "    clf = pickle.load(handle)"
   ]
  },
  {
   "cell_type": "code",
   "execution_count": 9,
   "id": "dc62c207-31cb-438e-93e1-fb39bed27d74",
   "metadata": {},
   "outputs": [],
   "source": [
    "#Insert data path for new data to be classified (h5ad-object)\n",
    "data_path = 'insert data path here'\n",
    "data_to_classify = sc.read(data_path)\n",
    "object_classified = classify_data(clf, data_to_classify)\n"
   ]
  },
  {
   "cell_type": "markdown",
   "id": "e26788bb-89a8-4f2e-8b73-5dda297e083f",
   "metadata": {},
   "source": [
    "## When looking at the classified object, the new columns in the metadata are:\n",
    "- ct_pred: The cell type predicted by BLC\n",
    "- second_most_likely: The cell type that was the second most likely cell type overall\n",
    "- third_most_likely: The cell type that was the third most likely cell type overall\n",
    "- likelihood_vs_second_ct: The estimated likelihood that the cell is ct_pred cell type and not the second_most_likely\n",
    "- likelihood_vs_third_ct: The estimated likelihood that the cell is ct_pred cell type and not the third_most_likely\n",
    "- overall_likelihood: overall_likelihood is the mean of the three most likely cell types"
   ]
  },
  {
   "cell_type": "code",
   "execution_count": null,
   "id": "66ec49db-15f9-4f29-99d7-30c35220ea8d",
   "metadata": {},
   "outputs": [],
   "source": [
    "object_classified.obs"
   ]
  },
  {
   "cell_type": "markdown",
   "id": "c810104d-ffd9-4cea-8362-f2acbf26fcae",
   "metadata": {},
   "source": [
    "## If you want to explore marker genes found by BLC to distinguish two cell types, you can do this by:"
   ]
  },
  {
   "cell_type": "code",
   "execution_count": 20,
   "id": "27aa1042-1ce5-4e89-a362-674d052b44d4",
   "metadata": {},
   "outputs": [
    {
     "data": {
      "text/plain": [
       "{'Classical Monocyte': Index(['PGD', 'CSF3R', 'C1orf162', 'CTSS', 'S100A11', 'S100A9', 'S100A12',\n",
       "        'S100A8', 'MNDA', 'FCER1G', 'NCF2', 'RGS2', 'CAPG', 'SLC11A1', 'TKT',\n",
       "        'CSTA', 'VCAN', 'CD14', 'RNF130', 'LY86', 'LST1', 'AIF1', 'HLA-DRA',\n",
       "        'HLA-DMA', 'CPVL', 'NCF1', 'FGL2', 'CD36', 'BRI3', 'NAMPT', 'AP1S2',\n",
       "        'SAT1', 'CYBB', 'CFP', 'CTSB', 'ASAH1', 'CEBPD', 'KLF4', 'NUP214',\n",
       "        'FCN1', 'TALDO1', 'SPI1', 'MPEG1', 'MS4A6A', 'FTH1', 'APLP2', 'PSAP',\n",
       "        'CLEC12A', 'CLEC7A', 'PLBD1', 'LYZ', 'DUSP6', 'TNFSF13B', 'LGALS3',\n",
       "        'NPC2', 'SERPINA1', 'TNFAIP2', 'CTSH', 'IGSF6', 'PYCARD', 'COTL1',\n",
       "        'CD68', 'GRN', 'CST3', 'HCK', 'CFD', 'STXBP2', 'IFI30', 'TYROBP',\n",
       "        'BLVRB', 'PLAUR', 'FTL', 'FCGRT', 'FPR1', 'LILRB2', 'TSPO', 'TYMP'],\n",
       "       dtype='object'),\n",
       " 'CD8T': Index(['LCK', 'CD2', 'CD8A', 'CD8B', 'ZAP70', 'IL7R', 'GZMA', 'IFITM1', 'CTSW',\n",
       "        'PTPRCAP', 'CD3E', 'CD3D', 'CD3G', 'PRF1', 'GZMH', 'EVL', 'B2M', 'IL32',\n",
       "        'CD7', 'CST7', 'GZMM', 'NKG7'],\n",
       "       dtype='object')}"
      ]
     },
     "execution_count": 20,
     "metadata": {},
     "output_type": "execute_result"
    }
   ],
   "source": [
    "#clf.specific_marker_dic #dictionary object\n",
    "clf.specific_marker_dic['Classical Monocyte', 'CD8T'] \n",
    "\n",
    "# NOTE: If you get a KeyError between two cell types you want to look up, try to reverse the order of the cell types \n",
    "# (for example \"clf.specific_marker_dic['CD8T', 'Classical Monocyte']) will result in a KeyError\n",
    "# You can also look at all cell type pairs through clf.specific_marker_dic.keys() to find the right key"
   ]
  }
 ],
 "metadata": {
  "kernelspec": {
   "display_name": "Python 3 (ipykernel)",
   "language": "python",
   "name": "python3"
  },
  "language_info": {
   "codemirror_mode": {
    "name": "ipython",
    "version": 3
   },
   "file_extension": ".py",
   "mimetype": "text/x-python",
   "name": "python",
   "nbconvert_exporter": "python",
   "pygments_lexer": "ipython3",
   "version": "3.10.6"
  }
 },
 "nbformat": 4,
 "nbformat_minor": 5
}
